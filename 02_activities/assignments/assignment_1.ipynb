{
 "cells": [
  {
   "cell_type": "markdown",
   "metadata": {},
   "source": [
    "# Working with parquet files\n",
    "\n",
    "## Objective\n",
    "\n",
    "+ In this assignment, we will use the data downloaded with the module `data_manager` to create features.\n",
    "\n",
    "(11 pts total)\n",
    "\n",
    "## Prerequisites\n",
    "\n",
    "+ This notebook assumes that price data is available to you in the environment variable `PRICE_DATA`. If you have not done so, then execute the notebook `01_materials/labs/2_data_engineering.ipynb` to create this data set.\n"
   ]
  },
  {
   "cell_type": "markdown",
   "metadata": {},
   "source": [
    "+ Load the environment variables using dotenv. (1 pt)"
   ]
  },
  {
   "cell_type": "code",
   "execution_count": 4,
   "metadata": {},
   "outputs": [
    {
     "name": "stdout",
     "output_type": "stream",
     "text": [
      "The dotenv extension is already loaded. To reload it, use:\n",
      "  %reload_ext dotenv\n"
     ]
    }
   ],
   "source": [
    "# Write your code below.\n",
    "\n",
    "%load_ext dotenv\n",
    "%dotenv "
   ]
  },
  {
   "cell_type": "code",
   "execution_count": 5,
   "metadata": {},
   "outputs": [],
   "source": [
    "import dask.dataframe as dd"
   ]
  },
  {
   "cell_type": "markdown",
   "metadata": {},
   "source": [
    "+ Load the environment variable `PRICE_DATA`.\n",
    "+ Use [glob](https://docs.python.org/3/library/glob.html) to find the path of all parquet files in the directory `PRICE_DATA`.\n",
    "\n",
    "(1pt)"
   ]
  },
  {
   "cell_type": "code",
   "execution_count": 11,
   "metadata": {},
   "outputs": [],
   "source": [
    "import os\n",
    "from glob import glob\n",
    "\n",
    "# Write your code below.\n",
    "\n",
    "price_data_path = os.getenv(\"PRICE_DATA\")\n",
    "os.path.join(price_data_path, \"**/part.0.parquet\")\n",
    "parquet_files = glob(os.path.join(price_data_path, \"**/part.0.parquet\"), recursive = True)\n",
    "dd_feat=dd.read_parquet(parquet_files)\n"
   ]
  },
  {
   "cell_type": "markdown",
   "metadata": {},
   "source": [
    "For each ticker and using Dask, do the following:\n",
    "\n",
    "+ Add lags for variables Close and Adj_Close.\n",
    "+ Add returns based on Adjusted Close:\n",
    "    \n",
    "    - `returns`: (Adj Close / Adj Close_lag) - 1\n",
    "\n",
    "+ Add the following range: \n",
    "\n",
    "    - `hi_lo_range`: this is the day's High minus Low.\n",
    "\n",
    "+ Assign the result to `dd_feat`.\n",
    "\n",
    "(4 pt)"
   ]
  },
  {
   "cell_type": "code",
   "execution_count": 12,
   "metadata": {},
   "outputs": [
    {
     "name": "stderr",
     "output_type": "stream",
     "text": [
      "C:\\Users\\alyon\\AppData\\Local\\Temp\\ipykernel_17324\\3445063403.py:2: UserWarning: `meta` is not specified, inferred from partial data. Please provide `meta` if the result is unexpected.\n",
      "  Before: .apply(func)\n",
      "  After:  .apply(func, meta={'x': 'f8', 'y': 'f8'}) for dataframe result\n",
      "  or:     .apply(func, meta=('x', 'f8'))            for series result\n",
      "  dd_feat = dd_feat.groupby('ticker', group_keys=False).apply(\n"
     ]
    }
   ],
   "source": [
    "# Write your code below.\n",
    "dd_feat = dd_feat.groupby('ticker', group_keys=False).apply(\n",
    "    lambda x: x.assign(\n",
    "        Close_lag=x['Close'].shift(1),\n",
    "        Adj_Close_lag=x['Adj Close'].shift(1)\n",
    "    )\n",
    ")\n",
    "\n",
    "dd_feat['returns'] = (dd_feat['Adj Close'] / dd_feat['Adj_Close_lag']) - 1\n",
    "dd_feat['hi_lo_range'] = dd_feat['High'] - dd_feat['Low']\n"
   ]
  },
  {
   "cell_type": "markdown",
   "metadata": {},
   "source": [
    "+ Convert the Dask data frame to a pandas data frame. \n",
    "+ Add a rolling average return calculation with a window of 10 days.\n",
    "+ *Tip*: Consider using `.rolling(10).mean()`.\n",
    "\n",
    "(3 pt)"
   ]
  },
  {
   "cell_type": "code",
   "execution_count": 13,
   "metadata": {},
   "outputs": [
    {
     "data": {
      "text/html": [
       "<div>\n",
       "<style scoped>\n",
       "    .dataframe tbody tr th:only-of-type {\n",
       "        vertical-align: middle;\n",
       "    }\n",
       "\n",
       "    .dataframe tbody tr th {\n",
       "        vertical-align: top;\n",
       "    }\n",
       "\n",
       "    .dataframe thead th {\n",
       "        text-align: right;\n",
       "    }\n",
       "</style>\n",
       "<table border=\"1\" class=\"dataframe\">\n",
       "  <thead>\n",
       "    <tr style=\"text-align: right;\">\n",
       "      <th></th>\n",
       "      <th>ticker</th>\n",
       "      <th>Date</th>\n",
       "      <th>Open</th>\n",
       "      <th>High</th>\n",
       "      <th>Low</th>\n",
       "      <th>Close</th>\n",
       "      <th>Adj Close</th>\n",
       "      <th>Volume</th>\n",
       "      <th>sector</th>\n",
       "      <th>subsector</th>\n",
       "      <th>year</th>\n",
       "      <th>Close_lag</th>\n",
       "      <th>Adj_Close_lag</th>\n",
       "      <th>returns</th>\n",
       "      <th>hi_lo_range</th>\n",
       "      <th>rolling_avg_return</th>\n",
       "    </tr>\n",
       "  </thead>\n",
       "  <tbody>\n",
       "    <tr>\n",
       "      <th>0</th>\n",
       "      <td>SYY</td>\n",
       "      <td>2006-01-03</td>\n",
       "      <td>31.209999</td>\n",
       "      <td>31.230000</td>\n",
       "      <td>30.809999</td>\n",
       "      <td>31.090000</td>\n",
       "      <td>17.966312</td>\n",
       "      <td>2118300</td>\n",
       "      <td>Consumer Staples</td>\n",
       "      <td>Food Distributors</td>\n",
       "      <td>2006</td>\n",
       "      <td>NaN</td>\n",
       "      <td>NaN</td>\n",
       "      <td>NaN</td>\n",
       "      <td>0.420000</td>\n",
       "      <td>NaN</td>\n",
       "    </tr>\n",
       "    <tr>\n",
       "      <th>1</th>\n",
       "      <td>SYY</td>\n",
       "      <td>2006-01-04</td>\n",
       "      <td>31.049999</td>\n",
       "      <td>31.480000</td>\n",
       "      <td>31.030001</td>\n",
       "      <td>31.110001</td>\n",
       "      <td>18.076721</td>\n",
       "      <td>2286200</td>\n",
       "      <td>Consumer Staples</td>\n",
       "      <td>Food Distributors</td>\n",
       "      <td>2006</td>\n",
       "      <td>31.090000</td>\n",
       "      <td>17.966312</td>\n",
       "      <td>0.006145</td>\n",
       "      <td>0.449999</td>\n",
       "      <td>NaN</td>\n",
       "    </tr>\n",
       "    <tr>\n",
       "      <th>2</th>\n",
       "      <td>SYY</td>\n",
       "      <td>2006-01-05</td>\n",
       "      <td>31.120001</td>\n",
       "      <td>31.340000</td>\n",
       "      <td>30.889999</td>\n",
       "      <td>30.990000</td>\n",
       "      <td>18.006990</td>\n",
       "      <td>1847600</td>\n",
       "      <td>Consumer Staples</td>\n",
       "      <td>Food Distributors</td>\n",
       "      <td>2006</td>\n",
       "      <td>31.110001</td>\n",
       "      <td>18.076721</td>\n",
       "      <td>-0.003857</td>\n",
       "      <td>0.450001</td>\n",
       "      <td>NaN</td>\n",
       "    </tr>\n",
       "    <tr>\n",
       "      <th>3</th>\n",
       "      <td>SYY</td>\n",
       "      <td>2006-01-06</td>\n",
       "      <td>30.990000</td>\n",
       "      <td>31.360001</td>\n",
       "      <td>30.879999</td>\n",
       "      <td>31.250000</td>\n",
       "      <td>18.158068</td>\n",
       "      <td>1905500</td>\n",
       "      <td>Consumer Staples</td>\n",
       "      <td>Food Distributors</td>\n",
       "      <td>2006</td>\n",
       "      <td>30.990000</td>\n",
       "      <td>18.006990</td>\n",
       "      <td>0.008390</td>\n",
       "      <td>0.480001</td>\n",
       "      <td>NaN</td>\n",
       "    </tr>\n",
       "    <tr>\n",
       "      <th>4</th>\n",
       "      <td>SYY</td>\n",
       "      <td>2006-01-09</td>\n",
       "      <td>31.299999</td>\n",
       "      <td>31.549999</td>\n",
       "      <td>31.200001</td>\n",
       "      <td>31.389999</td>\n",
       "      <td>18.239412</td>\n",
       "      <td>1738000</td>\n",
       "      <td>Consumer Staples</td>\n",
       "      <td>Food Distributors</td>\n",
       "      <td>2006</td>\n",
       "      <td>31.250000</td>\n",
       "      <td>18.158068</td>\n",
       "      <td>0.004480</td>\n",
       "      <td>0.349998</td>\n",
       "      <td>NaN</td>\n",
       "    </tr>\n",
       "  </tbody>\n",
       "</table>\n",
       "</div>"
      ],
      "text/plain": [
       "  ticker       Date       Open       High        Low      Close  Adj Close  \\\n",
       "0    SYY 2006-01-03  31.209999  31.230000  30.809999  31.090000  17.966312   \n",
       "1    SYY 2006-01-04  31.049999  31.480000  31.030001  31.110001  18.076721   \n",
       "2    SYY 2006-01-05  31.120001  31.340000  30.889999  30.990000  18.006990   \n",
       "3    SYY 2006-01-06  30.990000  31.360001  30.879999  31.250000  18.158068   \n",
       "4    SYY 2006-01-09  31.299999  31.549999  31.200001  31.389999  18.239412   \n",
       "\n",
       "    Volume            sector          subsector  year  Close_lag  \\\n",
       "0  2118300  Consumer Staples  Food Distributors  2006        NaN   \n",
       "1  2286200  Consumer Staples  Food Distributors  2006  31.090000   \n",
       "2  1847600  Consumer Staples  Food Distributors  2006  31.110001   \n",
       "3  1905500  Consumer Staples  Food Distributors  2006  30.990000   \n",
       "4  1738000  Consumer Staples  Food Distributors  2006  31.250000   \n",
       "\n",
       "   Adj_Close_lag   returns  hi_lo_range  rolling_avg_return  \n",
       "0            NaN       NaN     0.420000                 NaN  \n",
       "1      17.966312  0.006145     0.449999                 NaN  \n",
       "2      18.076721 -0.003857     0.450001                 NaN  \n",
       "3      18.006990  0.008390     0.480001                 NaN  \n",
       "4      18.158068  0.004480     0.349998                 NaN  "
      ]
     },
     "execution_count": 13,
     "metadata": {},
     "output_type": "execute_result"
    }
   ],
   "source": [
    "# Write your code below.\n",
    "import pandas as pd\n",
    "\n",
    "dd_feat = dd_feat.compute()\n",
    "dd_feat = dd_feat.reset_index(level='ticker')  \n",
    "dd_feat['rolling_avg_return'] = dd_feat.groupby('ticker')['returns'].transform(lambda x: x.rolling(10).mean())\n",
    "dd_feat.head()\n"
   ]
  },
  {
   "cell_type": "markdown",
   "metadata": {},
   "source": [
    "Please comment:\n",
    "\n",
    "+ Was it necessary to convert to pandas to calculate the moving average return?\n",
    "\n",
    "Not necessary because the Dask can perform this itself\n",
    "\n",
    "+ Would it have been better to do it in Dask? Why?\n",
    "\n",
    "to save time first, dask can better performm with big datasets\n",
    "(1 pt)"
   ]
  },
  {
   "cell_type": "markdown",
   "metadata": {},
   "source": [
    "## Criteria\n",
    "\n",
    "The [rubric](./assignment_1_rubric_clean.xlsx) contains the criteria for grading."
   ]
  },
  {
   "cell_type": "markdown",
   "metadata": {},
   "source": [
    "## Submission Information\n",
    "\n",
    "🚨 **Please review our [Assignment Submission Guide](https://github.com/UofT-DSI/onboarding/blob/main/onboarding_documents/submissions.md)** 🚨 for detailed instructions on how to format, branch, and submit your work. Following these guidelines is crucial for your submissions to be evaluated correctly.\n",
    "\n",
    "### Submission Parameters:\n",
    "* Submission Due Date: `HH:MM AM/PM - DD/MM/YYYY`\n",
    "* The branch name for your repo should be: `assignment-1`\n",
    "* What to submit for this assignment:\n",
    "    * This Jupyter Notebook (assignment_1.ipynb) should be populated and should be the only change in your pull request.\n",
    "* What the pull request link should look like for this assignment: `https://github.com/<your_github_username>/production/pull/<pr_id>`\n",
    "    * Open a private window in your browser. Copy and paste the link to your pull request into the address bar. Make sure you can see your pull request properly. This helps the technical facilitator and learning support staff review your submission easily.\n",
    "\n",
    "Checklist:\n",
    "- [ ] Created a branch with the correct naming convention.\n",
    "- [ ] Ensured that the repository is public.\n",
    "- [ ] Reviewed the PR description guidelines and adhered to them.\n",
    "- [ ] Verify that the link is accessible in a private browser window.\n",
    "\n",
    "If you encounter any difficulties or have questions, please don't hesitate to reach out to our team via our Slack at `#cohort-3-help`. Our Technical Facilitators and Learning Support staff are here to help you navigate any challenges."
   ]
  }
 ],
 "metadata": {
  "kernelspec": {
   "display_name": "dsi_participant",
   "language": "python",
   "name": "python3"
  },
  "language_info": {
   "codemirror_mode": {
    "name": "ipython",
    "version": 3
   },
   "file_extension": ".py",
   "mimetype": "text/x-python",
   "name": "python",
   "nbconvert_exporter": "python",
   "pygments_lexer": "ipython3",
   "version": "3.9.19"
  }
 },
 "nbformat": 4,
 "nbformat_minor": 2
}
