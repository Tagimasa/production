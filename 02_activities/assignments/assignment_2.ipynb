{
 "cells": [
  {
   "cell_type": "markdown",
   "metadata": {},
   "source": [
    "# Assignment 2"
   ]
  },
  {
   "cell_type": "markdown",
   "metadata": {},
   "source": [
    "In this assigment, we will work with the *Adult* data set. Please download the data from the [UCI Machine Learning Repository](https://archive.ics.uci.edu/dataset/2/adult). Extract the data files into the subdirectory: `../05_src/data/adult/` (relative to `./05_src/`)."
   ]
  },
  {
   "cell_type": "markdown",
   "metadata": {},
   "source": [
    "# Load the data\n",
    "\n",
    "Assuming that the files `adult.data` and `adult.test` are in `../05_src/data/adult/`, then you can use the code below to load them."
   ]
  },
  {
   "cell_type": "code",
   "execution_count": 13,
   "metadata": {},
   "outputs": [],
   "source": [
    "import pandas as pd\n",
    "columns = [\n",
    "    'age', 'workclass', 'fnlwgt', 'education', 'education-num', 'marital-status',\n",
    "    'occupation', 'relationship', 'race', 'sex', 'capital-gain', 'capital-loss', 'hours-per-week',\n",
    "    'native-country', 'income'\n",
    "]\n",
    "adult_dt = (pd.read_csv('../../05_src/data/adult/adult.data', header = None, names = columns)\n",
    "              .assign(income = lambda x: (x.income.str.strip() == '>50K')*1))\n"
   ]
  },
  {
   "cell_type": "markdown",
   "metadata": {},
   "source": [
    "# Get X and Y\n",
    "\n",
    "Create the features data frame and target data:\n",
    "\n",
    "+ Create a dataframe `X` that holds the features (all columns that are not `income`).\n",
    "+ Create a dataframe `Y` that holds the target data (`income`).\n",
    "+ From `X` and `Y`, obtain the training and testing data sets:\n",
    "\n",
    "    - Use a train-test split of 70-30%. \n",
    "    - Set the random state of the splitting function to 42."
   ]
  },
  {
   "cell_type": "code",
   "execution_count": 14,
   "metadata": {},
   "outputs": [],
   "source": [
    "from sklearn.model_selection import train_test_split\n",
    "X = adult_dt.drop(columns=\"income\") \n",
    "Y = adult_dt['income']\n",
    "\n",
    "X_train, X_test, Y_train, Y_test = train_test_split(X, Y, test_size=0.3, random_state=42)"
   ]
  },
  {
   "cell_type": "markdown",
   "metadata": {},
   "source": [
    "## Random States\n",
    "\n",
    "Please comment: \n",
    "\n",
    "+ What is the [random state](https://scikit-learn.org/stable/glossary.html#term-random_state) of the [splitting function](https://scikit-learn.org/stable/modules/generated/sklearn.model_selection.train_test_split.html)? \n",
    "+ Why is it [useful](https://en.wikipedia.org/wiki/Reproducibility)?\n",
    "\n",
    "\n"
   ]
  },
  {
   "cell_type": "markdown",
   "metadata": {},
   "source": [
    "random_state in the splitting function initialize the random number generator that controls various processes in the algorithm - any randomization in the decision-making process during the training of models\n",
    "Setting a fixed value for the random state ensures that the random processes in the model is reproducible\n",
    "Evaluating models using cross-validation, the same random state ensures that the data is split in exactly the same way every code run"
   ]
  },
  {
   "cell_type": "markdown",
   "metadata": {},
   "source": [
    "# Preprocessing\n",
    "\n",
    "Create a [Column Transformer](https://scikit-learn.org/stable/modules/generated/sklearn.compose.ColumnTransformer.html) that treats the features as follows:\n",
    "\n",
    "- Numerical variables\n",
    "\n",
    "    * Apply [KNN-based imputation for completing missing values](https://scikit-learn.org/stable/modules/generated/sklearn.impute.KNNImputer.html):\n",
    "        \n",
    "        + Consider the 7 nearest neighbours.\n",
    "        + Weight each neighbour by the inverse of its distance, causing closer neigbours to have more influence than more distant ones.\n",
    "    * [Scale features using statistics that are robust to outliers](https://scikit-learn.org/stable/modules/generated/sklearn.preprocessing.RobustScaler.html#sklearn.preprocessing.RobustScaler).\n",
    "\n",
    "- Categorical variables: \n",
    "    \n",
    "    * Apply a [simple imputation strategy](https://scikit-learn.org/stable/modules/generated/sklearn.impute.SimpleImputer.html#sklearn.impute.SimpleImputer):\n",
    "\n",
    "        + Use the most frequent value to complete missing values, also called the *mode*.\n",
    "\n",
    "    * Apply [one-hot encoding](https://scikit-learn.org/stable/modules/generated/sklearn.preprocessing.OneHotEncoder.html):\n",
    "        \n",
    "        + Handle unknown labels if they exist.\n",
    "        + Drop one column for binary variables.\n",
    "    \n",
    "    \n",
    "The column transformer should look like this:\n",
    "\n",
    "![](./images/assignment_2__column_transformer.png)"
   ]
  },
  {
   "cell_type": "code",
   "execution_count": 15,
   "metadata": {},
   "outputs": [],
   "source": [
    "from sklearn.compose import ColumnTransformer\n",
    "from sklearn.impute import KNNImputer, SimpleImputer\n",
    "from sklearn.preprocessing import RobustScaler, OneHotEncoder\n",
    "from sklearn.pipeline import Pipeline\n",
    "\n",
    "numerical_features = [\n",
    "    \"age\", \"fnlwgt\", \"education-num\", \"capital-gain\", \n",
    "    \"capital-loss\", \"hours-per-week\"\n",
    "]\n",
    "categorical_features = [\n",
    "    \"workclass\", \"education\", \"marital-status\", \"occupation\", \n",
    "    \"relationship\", \"race\", \"sex\", \"native-country\"\n",
    "]\n",
    "\n",
    "numerical_transformer = Pipeline(steps=[\n",
    "    (\"knn_imputer\", KNNImputer(n_neighbors=7, weights=\"distance\")),\n",
    "    (\"scaler\", RobustScaler())\n",
    "])\n",
    "\n",
    "categorical_transformer = Pipeline(steps=[\n",
    "    (\"simple_imputer\", SimpleImputer(strategy=\"most_frequent\")),\n",
    "    (\"onehot\", OneHotEncoder(handle_unknown=\"ignore\", drop=\"if_binary\"))\n",
    "])\n",
    "\n",
    "preprocessor = ColumnTransformer(\n",
    "    transformers=[\n",
    "        (\"num_transforms\", numerical_transformer, numerical_features),\n",
    "        (\"cat_transforms\", categorical_transformer, categorical_features)\n",
    "    ]\n",
    ")"
   ]
  },
  {
   "cell_type": "markdown",
   "metadata": {},
   "source": [
    "## Model Pipeline\n",
    "\n",
    "Create a [model pipeline](https://scikit-learn.org/stable/modules/generated/sklearn.pipeline.Pipeline.html): \n",
    "\n",
    "+ Add a step labelled `preprocessing` and assign the Column Transformer from the previous section.\n",
    "+ Add a step labelled `classifier` and assign a [`RandomForestClassifier()`](https://scikit-learn.org/stable/modules/generated/sklearn.ensemble.RandomForestClassifier.html) to it.\n",
    "\n",
    "The pipeline looks like this:\n",
    "\n",
    "![](./images/assignment_2__pipeline.png)"
   ]
  },
  {
   "cell_type": "code",
   "execution_count": 16,
   "metadata": {},
   "outputs": [],
   "source": [
    "from sklearn.ensemble import RandomForestClassifier\n",
    "\n",
    "model_pipeline = Pipeline(steps=[\n",
    "    (\"preprocessing\", preprocessor),    \n",
    "    (\"classifier\", RandomForestClassifier())  \n",
    "])"
   ]
  },
  {
   "cell_type": "markdown",
   "metadata": {},
   "source": [
    "# Cross-Validation\n",
    "\n",
    "Evaluate the model pipeline using [`cross_validate()`](https://scikit-learn.org/stable/modules/generated/sklearn.model_selection.cross_validate.html):\n",
    "\n",
    "+ Measure the following [preformance metrics](https://scikit-learn.org/stable/modules/model_evaluation.html#common-cases-predefined-values): negative log loss, ROC AUC, accuracy, and balanced accuracy.\n",
    "+ Report the training and validation results. \n",
    "+ Use five folds.\n"
   ]
  },
  {
   "cell_type": "code",
   "execution_count": 18,
   "metadata": {},
   "outputs": [
    {
     "name": "stderr",
     "output_type": "stream",
     "text": [
      "c:\\Users\\alyon\\miniconda3\\envs\\dsi_participant\\lib\\site-packages\\sklearn\\preprocessing\\_encoders.py:242: UserWarning: Found unknown categories in columns [7] during transform. These unknown categories will be encoded as all zeros\n",
      "  warnings.warn(\n",
      "c:\\Users\\alyon\\miniconda3\\envs\\dsi_participant\\lib\\site-packages\\sklearn\\preprocessing\\_encoders.py:242: UserWarning: Found unknown categories in columns [7] during transform. These unknown categories will be encoded as all zeros\n",
      "  warnings.warn(\n"
     ]
    },
    {
     "name": "stdout",
     "output_type": "stream",
     "text": [
      "The training and validation results:\n",
      "\n",
      "Metric: neg_log_loss\n",
      "  Training scores (per fold): [-0.08162018 -0.0812617  -0.0812555  -0.08145621 -0.08107471]\n",
      "  Validation scores (per fold): [-0.35609692 -0.36095817 -0.39781856 -0.35798222 -0.37339627]\n",
      "  Average training score: -0.0813\n",
      "  Average validation score: -0.3693\n",
      "\n",
      "Metric: roc_auc\n",
      "  Training scores (per fold): [1.         1.         1.         0.99999997 1.        ]\n",
      "  Validation scores (per fold): [0.9047839  0.90193644 0.90109027 0.90624757 0.90252911]\n",
      "  Average training score: 1.0000\n",
      "  Average validation score: 0.9033\n",
      "\n",
      "Metric: accuracy\n",
      "  Training scores (per fold): [1.         1.         1.         0.99994516 1.        ]\n",
      "  Validation scores (per fold): [0.85018644 0.84558017 0.85256692 0.86024572 0.85585783]\n",
      "  Average training score: 1.0000\n",
      "  Average validation score: 0.8529\n",
      "\n",
      "Metric: balanced_accuracy\n",
      "  Training scores (per fold): [1.        1.        1.        0.9999638 1.       ]\n",
      "  Validation scores (per fold): [0.77296559 0.76439375 0.77408012 0.78314811 0.77809826]\n",
      "  Average training score: 1.0000\n",
      "  Average validation score: 0.7745\n"
     ]
    }
   ],
   "source": [
    "from sklearn.model_selection import cross_validate\n",
    "from sklearn.metrics import make_scorer, log_loss, roc_auc_score\n",
    "\n",
    "scoring = {\n",
    "    'neg_log_loss': 'neg_log_loss',\n",
    "    'roc_auc': 'roc_auc',\n",
    "    'accuracy': 'accuracy',\n",
    "    'balanced_accuracy': 'balanced_accuracy'\n",
    "}\n",
    "\n",
    "cv_results = cross_validate(\n",
    "    model_pipeline, \n",
    "    X_train, \n",
    "    Y_train, \n",
    "    cv=5, \n",
    "    scoring=scoring, \n",
    "    return_train_score=True\n",
    ")\n",
    "\n",
    "print(\"The training and validation results:\")\n",
    "for metric in scoring.keys():\n",
    "    train_scores = cv_results[f'train_{metric}']\n",
    "    test_scores = cv_results[f'test_{metric}']\n",
    "    \n",
    "    print(f\"\\nMetric: {metric}\")\n",
    "    print(f\"  Training scores (per fold): {train_scores}\")\n",
    "    print(f\"  Validation scores (per fold): {test_scores}\")\n",
    "    print(f\"  Average training score: {train_scores.mean():.4f}\")\n",
    "    print(f\"  Average validation score: {test_scores.mean():.4f}\")"
   ]
  },
  {
   "cell_type": "markdown",
   "metadata": {},
   "source": [
    "Display the fold-level results as a pandas data frame and sorted by negative log loss of the test (validation) set."
   ]
  },
  {
   "cell_type": "code",
   "execution_count": 19,
   "metadata": {},
   "outputs": [
    {
     "data": {
      "text/html": [
       "<div>\n",
       "<style scoped>\n",
       "    .dataframe tbody tr th:only-of-type {\n",
       "        vertical-align: middle;\n",
       "    }\n",
       "\n",
       "    .dataframe tbody tr th {\n",
       "        vertical-align: top;\n",
       "    }\n",
       "\n",
       "    .dataframe thead th {\n",
       "        text-align: right;\n",
       "    }\n",
       "</style>\n",
       "<table border=\"1\" class=\"dataframe\">\n",
       "  <thead>\n",
       "    <tr style=\"text-align: right;\">\n",
       "      <th></th>\n",
       "      <th>fit_time</th>\n",
       "      <th>score_time</th>\n",
       "      <th>test_neg_log_loss</th>\n",
       "      <th>train_neg_log_loss</th>\n",
       "      <th>test_roc_auc</th>\n",
       "      <th>train_roc_auc</th>\n",
       "      <th>test_accuracy</th>\n",
       "      <th>train_accuracy</th>\n",
       "      <th>test_balanced_accuracy</th>\n",
       "      <th>train_balanced_accuracy</th>\n",
       "    </tr>\n",
       "  </thead>\n",
       "  <tbody>\n",
       "    <tr>\n",
       "      <th>2</th>\n",
       "      <td>7.876616</td>\n",
       "      <td>0.163558</td>\n",
       "      <td>-0.397819</td>\n",
       "      <td>-0.081256</td>\n",
       "      <td>0.901090</td>\n",
       "      <td>1.0</td>\n",
       "      <td>0.852567</td>\n",
       "      <td>1.000000</td>\n",
       "      <td>0.774080</td>\n",
       "      <td>1.000000</td>\n",
       "    </tr>\n",
       "    <tr>\n",
       "      <th>4</th>\n",
       "      <td>7.872824</td>\n",
       "      <td>0.156918</td>\n",
       "      <td>-0.373396</td>\n",
       "      <td>-0.081075</td>\n",
       "      <td>0.902529</td>\n",
       "      <td>1.0</td>\n",
       "      <td>0.855858</td>\n",
       "      <td>1.000000</td>\n",
       "      <td>0.778098</td>\n",
       "      <td>1.000000</td>\n",
       "    </tr>\n",
       "    <tr>\n",
       "      <th>1</th>\n",
       "      <td>8.032861</td>\n",
       "      <td>0.171162</td>\n",
       "      <td>-0.360958</td>\n",
       "      <td>-0.081262</td>\n",
       "      <td>0.901936</td>\n",
       "      <td>1.0</td>\n",
       "      <td>0.845580</td>\n",
       "      <td>1.000000</td>\n",
       "      <td>0.764394</td>\n",
       "      <td>1.000000</td>\n",
       "    </tr>\n",
       "    <tr>\n",
       "      <th>3</th>\n",
       "      <td>7.944032</td>\n",
       "      <td>0.166118</td>\n",
       "      <td>-0.357982</td>\n",
       "      <td>-0.081456</td>\n",
       "      <td>0.906248</td>\n",
       "      <td>1.0</td>\n",
       "      <td>0.860246</td>\n",
       "      <td>0.999945</td>\n",
       "      <td>0.783148</td>\n",
       "      <td>0.999964</td>\n",
       "    </tr>\n",
       "    <tr>\n",
       "      <th>0</th>\n",
       "      <td>7.890917</td>\n",
       "      <td>0.167167</td>\n",
       "      <td>-0.356097</td>\n",
       "      <td>-0.081620</td>\n",
       "      <td>0.904784</td>\n",
       "      <td>1.0</td>\n",
       "      <td>0.850186</td>\n",
       "      <td>1.000000</td>\n",
       "      <td>0.772966</td>\n",
       "      <td>1.000000</td>\n",
       "    </tr>\n",
       "  </tbody>\n",
       "</table>\n",
       "</div>"
      ],
      "text/plain": [
       "   fit_time  score_time  test_neg_log_loss  train_neg_log_loss  test_roc_auc  \\\n",
       "2  7.876616    0.163558          -0.397819           -0.081256      0.901090   \n",
       "4  7.872824    0.156918          -0.373396           -0.081075      0.902529   \n",
       "1  8.032861    0.171162          -0.360958           -0.081262      0.901936   \n",
       "3  7.944032    0.166118          -0.357982           -0.081456      0.906248   \n",
       "0  7.890917    0.167167          -0.356097           -0.081620      0.904784   \n",
       "\n",
       "   train_roc_auc  test_accuracy  train_accuracy  test_balanced_accuracy  \\\n",
       "2            1.0       0.852567        1.000000                0.774080   \n",
       "4            1.0       0.855858        1.000000                0.778098   \n",
       "1            1.0       0.845580        1.000000                0.764394   \n",
       "3            1.0       0.860246        0.999945                0.783148   \n",
       "0            1.0       0.850186        1.000000                0.772966   \n",
       "\n",
       "   train_balanced_accuracy  \n",
       "2                 1.000000  \n",
       "4                 1.000000  \n",
       "1                 1.000000  \n",
       "3                 0.999964  \n",
       "0                 1.000000  "
      ]
     },
     "execution_count": 19,
     "metadata": {},
     "output_type": "execute_result"
    }
   ],
   "source": [
    "results_df = pd.DataFrame(cv_results)\n",
    "sorted_results_df = results_df.sort_values(by='test_neg_log_loss')\n",
    "sorted_results_df"
   ]
  },
  {
   "cell_type": "markdown",
   "metadata": {},
   "source": [
    "Calculate the mean of each metric. "
   ]
  },
  {
   "cell_type": "code",
   "execution_count": 20,
   "metadata": {},
   "outputs": [
    {
     "name": "stdout",
     "output_type": "stream",
     "text": [
      "Mean results for each metric:\n",
      "fit_time                   7.923450\n",
      "score_time                 0.164985\n",
      "test_neg_log_loss         -0.369250\n",
      "train_neg_log_loss        -0.081334\n",
      "test_roc_auc               0.903317\n",
      "train_roc_auc              1.000000\n",
      "test_accuracy              0.852887\n",
      "train_accuracy             0.999989\n",
      "test_balanced_accuracy     0.774537\n",
      "train_balanced_accuracy    0.999993\n",
      "dtype: float64\n"
     ]
    }
   ],
   "source": [
    "mean_results = sorted_results_df.mean()\n",
    "\n",
    "print(\"Mean results for each metric:\")\n",
    "print(mean_results)"
   ]
  },
  {
   "cell_type": "markdown",
   "metadata": {},
   "source": [
    "Calculate the same performance metrics (negative log loss, ROC AUC, accuracy, and balanced accuracy) using the testing data `X_test` and `Y_test`. Display results as a dictionary.\n",
    "\n",
    "*Tip*: both, `roc_auc()` and `neg_log_loss()` will require prediction scores from `pipe.predict_proba()`. However, for `roc_auc()` you should only pass the last column `Y_pred_proba[:, 1]`. Use `Y_pred_proba` with `neg_log_loss()`."
   ]
  },
  {
   "cell_type": "code",
   "execution_count": 23,
   "metadata": {},
   "outputs": [
    {
     "data": {
      "text/plain": [
       "{'neg_log_loss': 0.38478347470623997,\n",
       " 'roc_auc': 0.9000414761690279,\n",
       " 'accuracy': 0.8540280479066434,\n",
       " 'balanced_accuracy': 0.7736803709030328}"
      ]
     },
     "execution_count": 23,
     "metadata": {},
     "output_type": "execute_result"
    }
   ],
   "source": [
    "from sklearn.metrics import log_loss, roc_auc_score, accuracy_score, balanced_accuracy_score\n",
    "\n",
    "model_pipeline.fit(X_train, Y_train)\n",
    "\n",
    "Y_pred = model_pipeline.predict(X_test)\n",
    "Y_pred_proba = model_pipeline.predict_proba(X_test)\n",
    "\n",
    "test_metrics = {\n",
    "    \"neg_log_loss\": log_loss(Y_test, Y_pred_proba),\n",
    "    \"roc_auc\": roc_auc_score(Y_test, Y_pred_proba[:, 1]),\n",
    "    \"accuracy\": accuracy_score(Y_test, Y_pred),\n",
    "    \"balanced_accuracy\": balanced_accuracy_score(Y_test, Y_pred)\n",
    "}\n",
    "\n",
    "test_metrics"
   ]
  },
  {
   "cell_type": "markdown",
   "metadata": {},
   "source": [
    "# Target Recoding\n",
    "\n",
    "In the first code chunk of this document, we loaded the data and immediately recoded the target variable `income`. Why is this [convenient](https://scikit-learn.org/stable/modules/model_evaluation.html#binary-case)?\n",
    "\n",
    "The specific line was:\n",
    "\n",
    "```\n",
    "adult_dt = (pd.read_csv('../05_src/data/adult/adult.data', header = None, names = columns)\n",
    "              .assign(income = lambda x: (x.income.str.strip() == '>50K')*1))\n",
    "```"
   ]
  },
  {
   "cell_type": "markdown",
   "metadata": {},
   "source": [
    "this can help us to further sort the dataset, although its not clear if the program going to run faster "
   ]
  },
  {
   "cell_type": "markdown",
   "metadata": {},
   "source": [
    "## Criteria\n",
    "\n",
    "The [rubric](./assignment_2_rubric_clean.xlsx) contains the criteria for assessment."
   ]
  },
  {
   "cell_type": "markdown",
   "metadata": {},
   "source": [
    "## Submission Information\n",
    "\n",
    "🚨 **Please review our [Assignment Submission Guide](https://github.com/UofT-DSI/onboarding/blob/main/onboarding_documents/submissions.md)** 🚨 for detailed instructions on how to format, branch, and submit your work. Following these guidelines is crucial for your submissions to be evaluated correctly.\n",
    "\n",
    "### Submission Parameters:\n",
    "* Submission Due Date: `HH:MM AM/PM - DD/MM/YYYY`\n",
    "* The branch name for your repo should be: `assignment-2`\n",
    "* What to submit for this assignment:\n",
    "    * This Jupyter Notebook (assignment_2.ipynb) should be populated and should be the only change in your pull request.\n",
    "* What the pull request link should look like for this assignment: `https://github.com/<your_github_username>/production/pull/<pr_id>`\n",
    "    * Open a private window in your browser. Copy and paste the link to your pull request into the address bar. Make sure you can see your pull request properly. This helps the technical facilitator and learning support staff review your submission easily.\n",
    "\n",
    "Checklist:\n",
    "- [ ] Created a branch with the correct naming convention.\n",
    "- [ ] Ensured that the repository is public.\n",
    "- [ ] Reviewed the PR description guidelines and adhered to them.\n",
    "- [ ] Verify that the link is accessible in a private browser window.\n",
    "\n",
    "If you encounter any difficulties or have questions, please don't hesitate to reach out to our team via our Slack at `#cohort-3-help`. Our Technical Facilitators and Learning Support staff are here to help you navigate any challenges."
   ]
  },
  {
   "cell_type": "markdown",
   "metadata": {},
   "source": [
    "# Reference\n",
    "\n",
    "Becker,Barry and Kohavi,Ronny. (1996). Adult. UCI Machine Learning Repository. https://doi.org/10.24432/C5XW20."
   ]
  }
 ],
 "metadata": {
  "kernelspec": {
   "display_name": "dsi_participant",
   "language": "python",
   "name": "python3"
  },
  "language_info": {
   "codemirror_mode": {
    "name": "ipython",
    "version": 3
   },
   "file_extension": ".py",
   "mimetype": "text/x-python",
   "name": "python",
   "nbconvert_exporter": "python",
   "pygments_lexer": "ipython3",
   "version": "3.9.19"
  }
 },
 "nbformat": 4,
 "nbformat_minor": 2
}
